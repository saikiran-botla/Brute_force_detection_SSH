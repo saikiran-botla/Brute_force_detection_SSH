{
 "cells": [
  {
   "cell_type": "code",
   "execution_count": 1,
   "metadata": {},
   "outputs": [],
   "source": [
    "import numpy as np\n",
    "import pandas as pd\n",
    "import seaborn as sns\n",
    "import matplotlib.pyplot as plt\n",
    "data=pd.read_csv('./final_dataset.csv')"
   ]
  },
  {
   "cell_type": "code",
   "execution_count": 33,
   "metadata": {},
   "outputs": [
    {
     "name": "stdout",
     "output_type": "stream",
     "text": [
      "9073\n"
     ]
    }
   ],
   "source": [
    "#for col in data.columns:\n",
    "    #print(col)\n",
    "#print(data[' Protocol'])\n",
    "data=data[(data[' Source Port']==22) | (data[' Destination Port']==22) ]\n",
    "print(len(data))"
   ]
  },
  {
   "cell_type": "code",
   "execution_count": 62,
   "metadata": {},
   "outputs": [
    {
     "name": "stdout",
     "output_type": "stream",
     "text": [
      "Total Row :  9069\n"
     ]
    },
    {
     "name": "stderr",
     "output_type": "stream",
     "text": [
      "/media/saikiran/Common disk/RnD1/env/lib/python3.9/site-packages/sklearn/cluster/_kmeans.py:870: FutureWarning: The default value of `n_init` will change from 10 to 'auto' in 1.4. Set the value of `n_init` explicitly to suppress the warning\n",
      "  warnings.warn(\n"
     ]
    }
   ],
   "source": [
    "%matplotlib inline\n",
    "from mpl_toolkits.mplot3d import Axes3D\n",
    "\n",
    "from sklearn.cluster import KMeans\n",
    "from sklearn.preprocessing import StandardScaler\n",
    "\n",
    "cols=[' Protocol',' Flow Duration',' Total Fwd Packets',' Total Backward Packets','Total Length of Fwd Packets',' Total Length of Bwd Packets',' Fwd Packet Length Max',' Fwd Packet Length Min',' Fwd Packet Length Mean',' Fwd Packet Length Std','Bwd Packet Length Max',' Bwd Packet Length Min',' Bwd Packet Length Mean',' Bwd Packet Length Std','Flow Bytes/s',' Flow Packets/s',' Flow IAT Mean',' Flow IAT Std',' Flow IAT Max',' Flow IAT Min','Fwd IAT Total',' Fwd IAT Mean',' Fwd IAT Std',' Fwd IAT Max',' Fwd IAT Min','Bwd IAT Total',' Bwd IAT Mean',' Bwd IAT Std',' Bwd IAT Max',' Bwd IAT Min','Fwd PSH Flags',' Bwd PSH Flags',' Fwd URG Flags',' Bwd URG Flags',' Fwd Header Length',' Bwd Header Length','Fwd Packets/s',' Bwd Packets/s',' Min Packet Length',' Max Packet Length',' Packet Length Mean',' Packet Length Std',' Packet Length Variance','FIN Flag Count',' SYN Flag Count',' RST Flag Count',' PSH Flag Count',' ACK Flag Count',' URG Flag Count',' CWE Flag Count',' ECE Flag Count',' Down/Up Ratio',' Average Packet Size',' Avg Fwd Segment Size',' Avg Bwd Segment Size',' Fwd Header Length','Fwd Avg Bytes/Bulk',' Fwd Avg Packets/Bulk',' Fwd Avg Bulk Rate',' Bwd Avg Bytes/Bulk',' Bwd Avg Packets/Bulk','Bwd Avg Bulk Rate','Subflow Fwd Packets',' Subflow Fwd Bytes',' Subflow Bwd Packets',' Subflow Bwd Bytes','Init_Win_bytes_forward',' Init_Win_bytes_backward',' act_data_pkt_fwd',' min_seg_size_forward','Active Mean',' Active Std',' Active Max',' Active Min','Idle Mean',' Idle Std',' Idle Max',' Idle Min']\n",
    "\n",
    "dfa_old = data[cols]    \n",
    "dfa=dfa_old[np.isfinite(dfa_old).all(1)]\n",
    "\n",
    "print('Total Row : ', len(dfa))\n",
    "## Feature Scaling\n",
    "sc_dfa = StandardScaler()\n",
    "np.isnan(dfa)\n",
    "dfa_std = sc_dfa.fit_transform(dfa.astype(np.float64))\n",
    "## Clustering with KMeans\n",
    "kmeans = KMeans(n_clusters=2, random_state=42).fit(dfa_std)\n",
    "labels = kmeans.labels_\n",
    "new_dfa = pd.DataFrame(data = dfa_std, columns = cols)\n",
    "new_dfa['label_kmeans'] = labels\n",
    "\n",
    "count=[0,0,0,0,0]\n",
    "for i in new_dfa['label_kmeans']:\n",
    "    count[i]+=1\n",
    "\n"
   ]
  },
  {
   "cell_type": "code",
   "execution_count": 63,
   "metadata": {},
   "outputs": [
    {
     "name": "stdout",
     "output_type": "stream",
     "text": [
      "5113\n",
      "3956\n",
      "0\n",
      "0\n",
      "0\n"
     ]
    }
   ],
   "source": [
    "print(count[0])\n",
    "print(count[1])\n",
    "print(count[2])\n",
    "print(count[3])\n",
    "print(count[4])"
   ]
  },
  {
   "cell_type": "code",
   "execution_count": 64,
   "metadata": {},
   "outputs": [],
   "source": [
    "count1=[0,0]\n",
    "for i in data[' Label']:\n",
    "    if i==\"BENIGN\":\n",
    "        count1[0]+=1\n",
    "    else:\n",
    "        count1[1]+=1\n"
   ]
  },
  {
   "cell_type": "code",
   "execution_count": 65,
   "metadata": {},
   "outputs": [
    {
     "name": "stdout",
     "output_type": "stream",
     "text": [
      "3176 5897\n"
     ]
    }
   ],
   "source": [
    "print(count1[0],count1[1])"
   ]
  },
  {
   "cell_type": "code",
   "execution_count": 66,
   "metadata": {},
   "outputs": [],
   "source": [
    "\n",
    "acc_benign=0\n",
    "bad_benign=0\n",
    "acc_attack=0\n",
    "bad_attack=0\n",
    "total=0\n",
    "\n",
    "for i in range(len(new_dfa['label_kmeans'])):\n",
    "    if new_dfa['label_kmeans'].iloc[i] ==1 and data[' Label'].iloc[i]=='BENIGN':\n",
    "        acc_benign+=1\n",
    "        total+=1\n",
    "    elif data[' Label'].iloc[i]=='BENIGN' and new_dfa['label_kmeans'].iloc[i]!=1:\n",
    "        bad_benign+=1\n",
    "        total+=1\n",
    "    elif data[' Label'].iloc[i]!='BENIGN' and new_dfa['label_kmeans'].iloc[i]==1:\n",
    "        bad_attack+=1\n",
    "        total+=1\n",
    "    elif data[' Label'].iloc[i]!='BENIGN' and new_dfa['label_kmeans'].iloc[i]!=1:\n",
    "        acc_attack+=1\n",
    "        total+=1\n"
   ]
  },
  {
   "cell_type": "code",
   "execution_count": 68,
   "metadata": {},
   "outputs": [
    {
     "name": "stdout",
     "output_type": "stream",
     "text": [
      "1411 1764 3349 2545\n",
      "9069\n"
     ]
    }
   ],
   "source": [
    "print(acc_benign,bad_benign,acc_attack,bad_attack)\n",
    "if acc_attack+acc_benign+bad_benign+bad_attack==total:\n",
    "    print(total)"
   ]
  },
  {
   "attachments": {},
   "cell_type": "markdown",
   "metadata": {},
   "source": [
    "Lets apply supervised machine learning techniques, cause the performance of unsupervised machine learning algorithms are very poor."
   ]
  },
  {
   "cell_type": "code",
   "execution_count": 1,
   "metadata": {},
   "outputs": [
    {
     "name": "stdout",
     "output_type": "stream",
     "text": [
      "85\n"
     ]
    },
    {
     "name": "stderr",
     "output_type": "stream",
     "text": [
      "/tmp/ipykernel_146843/1705385293.py:16: SettingWithCopyWarning: \n",
      "A value is trying to be set on a copy of a slice from a DataFrame\n",
      "\n",
      "See the caveats in the documentation: https://pandas.pydata.org/pandas-docs/stable/user_guide/indexing.html#returning-a-view-versus-a-copy\n",
      "  data[' Label'][data[' Label']=='BENIGN']=0\n"
     ]
    }
   ],
   "source": [
    "import numpy as np\n",
    "import pandas as pd\n",
    "import seaborn as sns\n",
    "import matplotlib.pyplot as plt\n",
    "\n",
    "import sklearn\n",
    "\n",
    "cols=[' Protocol',' Flow Duration',' Total Fwd Packets',' Total Backward Packets','Total Length of Fwd Packets',' Total Length of Bwd Packets',' Fwd Packet Length Max',' Fwd Packet Length Min',' Fwd Packet Length Mean',' Fwd Packet Length Std','Bwd Packet Length Max',' Bwd Packet Length Min',' Bwd Packet Length Mean',' Bwd Packet Length Std','Flow Bytes/s',' Flow Packets/s',' Flow IAT Mean',' Flow IAT Std',' Flow IAT Max',' Flow IAT Min','Fwd IAT Total',' Fwd IAT Mean',' Fwd IAT Std',' Fwd IAT Max',' Fwd IAT Min','Bwd IAT Total',' Bwd IAT Mean',' Bwd IAT Std',' Bwd IAT Max',' Bwd IAT Min','Fwd PSH Flags',' Bwd PSH Flags',' Fwd URG Flags',' Bwd URG Flags',' Fwd Header Length',' Bwd Header Length','Fwd Packets/s',' Bwd Packets/s',' Min Packet Length',' Max Packet Length',' Packet Length Mean',' Packet Length Std',' Packet Length Variance','FIN Flag Count',' SYN Flag Count',' RST Flag Count',' PSH Flag Count',' ACK Flag Count',' URG Flag Count',' CWE Flag Count',' ECE Flag Count',' Down/Up Ratio',' Average Packet Size',' Avg Fwd Segment Size',' Avg Bwd Segment Size',' Fwd Header Length','Fwd Avg Bytes/Bulk',' Fwd Avg Packets/Bulk',' Fwd Avg Bulk Rate',' Bwd Avg Bytes/Bulk',' Bwd Avg Packets/Bulk','Bwd Avg Bulk Rate','Subflow Fwd Packets',' Subflow Fwd Bytes',' Subflow Bwd Packets',' Subflow Bwd Bytes','Init_Win_bytes_forward',' Init_Win_bytes_backward',' act_data_pkt_fwd',' min_seg_size_forward','Active Mean',' Active Std',' Active Max',' Active Min','Idle Mean',' Idle Std',' Idle Max',' Idle Min',' Label']\n",
    "\n",
    "\n",
    "data=pd.read_csv('./final_dataset.csv')\n",
    "print(len(data.columns))\n",
    "data=data[(data[' Source Port']==22) | (data[' Destination Port']==22)]\n",
    "\n",
    "data[' Label'][data[' Label']=='SSH-Patator']=1\n",
    "data[' Label'][data[' Label']=='BENIGN']=0\n",
    "\n",
    "\n",
    "data=data[cols]\n",
    "data=data.astype(np.float64)\n",
    "data=data[np.isfinite(data).all(1)]\n",
    "\n",
    "y=data[' Label']\n",
    "y=y.to_numpy()\n",
    "\n",
    "data.drop(data.columns[len(data.columns)-1], axis=1, inplace=True)\n",
    "x=data.to_numpy()\n"
   ]
  },
  {
   "cell_type": "code",
   "execution_count": 67,
   "metadata": {},
   "outputs": [
    {
     "name": "stdout",
     "output_type": "stream",
     "text": [
      "(9069, 78)\n",
      "(9069,)\n"
     ]
    }
   ],
   "source": [
    "print(x.shape)\n",
    "print(y.shape)"
   ]
  },
  {
   "cell_type": "code",
   "execution_count": 68,
   "metadata": {},
   "outputs": [],
   "source": [
    "x=x-np.mean(x,axis=0)"
   ]
  },
  {
   "cell_type": "code",
   "execution_count": 72,
   "metadata": {},
   "outputs": [],
   "source": [
    "from sklearn.model_selection import train_test_split\n",
    "\n",
    "x=np.reshape(x,(x.shape[0],13,6,1))\n",
    "x=x.astype(np.float64)\n",
    "x=x*255\n",
    "x_train,x_test,y_train,y_test=train_test_split(x,y,test_size=0.2)"
   ]
  },
  {
   "cell_type": "code",
   "execution_count": 73,
   "metadata": {},
   "outputs": [
    {
     "name": "stdout",
     "output_type": "stream",
     "text": [
      "(7255, 13, 6, 1)\n",
      "(1814, 13, 6, 1)\n",
      "(7255,)\n",
      "(1814,)\n"
     ]
    }
   ],
   "source": [
    "print(x_train.shape)\n",
    "print(x_test.shape)\n",
    "print(y_train.shape)\n",
    "print(y_test.shape)"
   ]
  },
  {
   "cell_type": "code",
   "execution_count": 74,
   "metadata": {},
   "outputs": [
    {
     "name": "stdout",
     "output_type": "stream",
     "text": [
      "4731.0\n",
      "7255\n"
     ]
    }
   ],
   "source": [
    "print(np.sum(y_train))\n",
    "print(len(y_train))"
   ]
  },
  {
   "attachments": {},
   "cell_type": "markdown",
   "metadata": {},
   "source": [
    "Dataset contains 4724 flows which are Brute force labeled and rest are benign, Which implies dataset it evenly balanced."
   ]
  },
  {
   "cell_type": "code",
   "execution_count": 1,
   "metadata": {},
   "outputs": [
    {
     "ename": "ModuleNotFoundError",
     "evalue": "No module named 'tensorflow'",
     "output_type": "error",
     "traceback": [
      "\u001b[0;31m---------------------------------------------------------------------------\u001b[0m",
      "\u001b[0;31mModuleNotFoundError\u001b[0m                       Traceback (most recent call last)",
      "Cell \u001b[0;32mIn[1], line 1\u001b[0m\n\u001b[0;32m----> 1\u001b[0m \u001b[39mfrom\u001b[39;00m \u001b[39mtensorflow\u001b[39;00m\u001b[39m.\u001b[39;00m\u001b[39mkeras\u001b[39;00m\u001b[39m.\u001b[39;00m\u001b[39mmodels\u001b[39;00m \u001b[39mimport\u001b[39;00m Sequential\n\u001b[1;32m      2\u001b[0m \u001b[39mfrom\u001b[39;00m \u001b[39mtensorflow\u001b[39;00m\u001b[39m.\u001b[39;00m\u001b[39mkeras\u001b[39;00m\u001b[39m.\u001b[39;00m\u001b[39mlayers\u001b[39;00m \u001b[39mimport\u001b[39;00m Conv2D\n\u001b[1;32m      3\u001b[0m \u001b[39mfrom\u001b[39;00m \u001b[39mtensorflow\u001b[39;00m\u001b[39m.\u001b[39;00m\u001b[39mkeras\u001b[39;00m\u001b[39m.\u001b[39;00m\u001b[39mlayers\u001b[39;00m \u001b[39mimport\u001b[39;00m MaxPool2D\n",
      "\u001b[0;31mModuleNotFoundError\u001b[0m: No module named 'tensorflow'"
     ]
    }
   ],
   "source": [
    "from tensorflow.keras.models import Sequential\n",
    "from tensorflow.keras.layers import Conv2D\n",
    "from tensorflow.keras.layers import MaxPool2D\n",
    "from tensorflow.keras.layers import Flatten\n",
    "from tensorflow.keras.layers import Dropout\n",
    "from tensorflow.keras.layers import Dense\n",
    "\n"
   ]
  },
  {
   "cell_type": "code",
   "execution_count": 4,
   "metadata": {},
   "outputs": [
    {
     "name": "stdout",
     "output_type": "stream",
     "text": [
      "1 & Flow ID \\\\\n",
      "2 &  Source IP \\\\\n",
      "3 &  Source Port \\\\\n",
      "4 &  Destination IP \\\\\n",
      "5 &  Destination Port \\\\\n",
      "6 &  Protocol \\\\\n",
      "7 &  Timestamp \\\\\n",
      "8 &  Flow Duration \\\\\n",
      "9 &  Total Fwd Packets \\\\\n",
      "10 &  Total Backward Packets \\\\\n",
      "11 & Total Length of Fwd Packets \\\\\n",
      "12 &  Total Length of Bwd Packets \\\\\n",
      "13 &  Fwd Packet Length Max \\\\\n",
      "14 &  Fwd Packet Length Min \\\\\n",
      "15 &  Fwd Packet Length Mean \\\\\n",
      "16 &  Fwd Packet Length Std \\\\\n",
      "17 & Bwd Packet Length Max \\\\\n",
      "18 &  Bwd Packet Length Min \\\\\n",
      "19 &  Bwd Packet Length Mean \\\\\n",
      "20 &  Bwd Packet Length Std \\\\\n",
      "21 & Flow Bytes/s \\\\\n",
      "22 &  Flow Packets/s \\\\\n",
      "23 &  Flow IAT Mean \\\\\n",
      "24 &  Flow IAT Std \\\\\n",
      "25 &  Flow IAT Max \\\\\n",
      "26 &  Flow IAT Min \\\\\n",
      "27 & Fwd IAT Total \\\\\n",
      "28 &  Fwd IAT Mean \\\\\n",
      "29 &  Fwd IAT Std \\\\\n",
      "30 &  Fwd IAT Max \\\\\n",
      "31 &  Fwd IAT Min \\\\\n",
      "32 & Bwd IAT Total \\\\\n",
      "33 &  Bwd IAT Mean \\\\\n",
      "34 &  Bwd IAT Std \\\\\n",
      "35 &  Bwd IAT Max \\\\\n",
      "36 &  Bwd IAT Min \\\\\n",
      "37 & Fwd PSH Flags \\\\\n",
      "38 &  Bwd PSH Flags \\\\\n",
      "39 &  Fwd URG Flags \\\\\n",
      "40 &  Bwd URG Flags \\\\\n",
      "41 &  Fwd Header Length \\\\\n",
      "42 &  Bwd Header Length \\\\\n",
      "43 & Fwd Packets/s \\\\\n",
      "44 &  Bwd Packets/s \\\\\n",
      "45 &  Min Packet Length \\\\\n",
      "46 &  Max Packet Length \\\\\n",
      "47 &  Packet Length Mean \\\\\n",
      "48 &  Packet Length Std \\\\\n",
      "49 &  Packet Length Variance \\\\\n",
      "50 & FIN Flag Count \\\\\n",
      "51 &  SYN Flag Count \\\\\n",
      "52 &  RST Flag Count \\\\\n",
      "53 &  PSH Flag Count \\\\\n",
      "54 &  ACK Flag Count \\\\\n",
      "55 &  URG Flag Count \\\\\n",
      "56 &  CWE Flag Count \\\\\n",
      "57 &  ECE Flag Count \\\\\n",
      "58 &  Down/Up Ratio \\\\\n",
      "59 &  Average Packet Size \\\\\n",
      "60 &  Avg Fwd Segment Size \\\\\n",
      "61 &  Avg Bwd Segment Size \\\\\n",
      "62 &  Fwd Header Length.1 \\\\\n",
      "63 & Fwd Avg Bytes/Bulk \\\\\n",
      "64 &  Fwd Avg Packets/Bulk \\\\\n",
      "65 &  Fwd Avg Bulk Rate \\\\\n",
      "66 &  Bwd Avg Bytes/Bulk \\\\\n",
      "67 &  Bwd Avg Packets/Bulk \\\\\n",
      "68 & Bwd Avg Bulk Rate \\\\\n",
      "69 & Subflow Fwd Packets \\\\\n",
      "70 &  Subflow Fwd Bytes \\\\\n",
      "71 &  Subflow Bwd Packets \\\\\n",
      "72 &  Subflow Bwd Bytes \\\\\n",
      "73 & Init_Win_bytes_forward \\\\\n",
      "74 &  Init_Win_bytes_backward \\\\\n",
      "75 &  act_data_pkt_fwd \\\\\n",
      "76 &  min_seg_size_forward \\\\\n",
      "77 & Active Mean \\\\\n",
      "78 &  Active Std \\\\\n",
      "79 &  Active Max \\\\\n",
      "80 &  Active Min \\\\\n",
      "81 & Idle Mean \\\\\n",
      "82 &  Idle Std \\\\\n",
      "83 &  Idle Max \\\\\n",
      "84 &  Idle Min \\\\\n",
      "85 &  Label \\\\\n"
     ]
    }
   ],
   "source": [
    "import pandas as pd\n",
    "\n",
    "data=pd.read_csv('./final_dataset.csv')\n",
    "for i in range(len(data.columns)):\n",
    "    print(i+1,\"&\",data.columns[i],\"\\\\\\\\\",)"
   ]
  }
 ],
 "metadata": {
  "kernelspec": {
   "display_name": "env",
   "language": "python",
   "name": "python3"
  },
  "language_info": {
   "codemirror_mode": {
    "name": "ipython",
    "version": 3
   },
   "file_extension": ".py",
   "mimetype": "text/x-python",
   "name": "python",
   "nbconvert_exporter": "python",
   "pygments_lexer": "ipython3",
   "version": "3.9.13"
  },
  "orig_nbformat": 4
 },
 "nbformat": 4,
 "nbformat_minor": 2
}
