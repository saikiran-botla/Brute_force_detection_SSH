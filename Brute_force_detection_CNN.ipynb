{
  "cells": [
    {
      "cell_type": "code",
      "execution_count": 2,
      "metadata": {
        "colab": {
          "base_uri": "https://localhost:8080/"
        },
        "id": "tMqs2ZHdFDGL",
        "outputId": "e425bccb-91ad-4321-a9eb-98cd3f4b9dd7"
      },
      "outputs": [
        {
          "output_type": "stream",
          "name": "stdout",
          "text": [
            "Mounted at /content/drive\n"
          ]
        }
      ],
      "source": [
        "from google.colab import drive\n",
        "drive.mount('/content/drive')\n",
        "\n"
      ]
    },
    {
      "cell_type": "code",
      "execution_count": 3,
      "metadata": {
        "colab": {
          "base_uri": "https://localhost:8080/",
          "height": 36
        },
        "id": "cV3mLV3EJEFS",
        "outputId": "35f5f11f-2d14-49b3-faa7-f4a7a99ab64a"
      },
      "outputs": [
        {
          "output_type": "execute_result",
          "data": {
            "text/plain": [
              "'/content/drive/My Drive/Colab Notebooks/final_dataset.csv'"
            ],
            "application/vnd.google.colaboratory.intrinsic+json": {
              "type": "string"
            }
          },
          "metadata": {},
          "execution_count": 3
        }
      ],
      "source": [
        "csv_loc='/content/drive/My Drive/Colab Notebooks/final_dataset.csv'\n",
        "csv_loc"
      ]
    },
    {
      "cell_type": "code",
      "execution_count": 4,
      "metadata": {
        "colab": {
          "base_uri": "https://localhost:8080/"
        },
        "id": "daCYiCMsGTg1",
        "outputId": "9d2f8c2d-21b8-42fe-f643-f337a0fe1ba6"
      },
      "outputs": [
        {
          "output_type": "stream",
          "name": "stdout",
          "text": [
            "(9069, 79)\n"
          ]
        },
        {
          "output_type": "stream",
          "name": "stderr",
          "text": [
            "<ipython-input-4-93fc3b67e484>:16: SettingWithCopyWarning: \n",
            "A value is trying to be set on a copy of a slice from a DataFrame\n",
            "\n",
            "See the caveats in the documentation: https://pandas.pydata.org/pandas-docs/stable/user_guide/indexing.html#returning-a-view-versus-a-copy\n",
            "  data[' Label'][data[' Label']=='BENIGN']=0\n"
          ]
        },
        {
          "output_type": "execute_result",
          "data": {
            "text/plain": [
              "(9069, 78)"
            ]
          },
          "metadata": {},
          "execution_count": 4
        }
      ],
      "source": [
        "import numpy as np\n",
        "import pandas as pd\n",
        "import seaborn as sns\n",
        "import matplotlib.pyplot as plt\n",
        "\n",
        "import sklearn\n",
        "\n",
        "cols=[' Protocol',' Flow Duration',' Total Fwd Packets',' Total Backward Packets','Total Length of Fwd Packets',' Total Length of Bwd Packets',' Fwd Packet Length Max',' Fwd Packet Length Min',' Fwd Packet Length Mean',' Fwd Packet Length Std','Bwd Packet Length Max',' Bwd Packet Length Min',' Bwd Packet Length Mean',' Bwd Packet Length Std','Flow Bytes/s',' Flow Packets/s',' Flow IAT Mean',' Flow IAT Std',' Flow IAT Max',' Flow IAT Min','Fwd IAT Total',' Fwd IAT Mean',' Fwd IAT Std',' Fwd IAT Max',' Fwd IAT Min','Bwd IAT Total',' Bwd IAT Mean',' Bwd IAT Std',' Bwd IAT Max',' Bwd IAT Min','Fwd PSH Flags',' Bwd PSH Flags',' Fwd URG Flags',' Bwd URG Flags',' Fwd Header Length',' Bwd Header Length','Fwd Packets/s',' Bwd Packets/s',' Min Packet Length',' Max Packet Length',' Packet Length Mean',' Packet Length Std',' Packet Length Variance','FIN Flag Count',' SYN Flag Count',' RST Flag Count',' PSH Flag Count',' ACK Flag Count',' URG Flag Count',' CWE Flag Count',' ECE Flag Count',' Down/Up Ratio',' Average Packet Size',' Avg Fwd Segment Size',' Avg Bwd Segment Size',' Fwd Header Length','Fwd Avg Bytes/Bulk',' Fwd Avg Packets/Bulk',' Fwd Avg Bulk Rate',' Bwd Avg Bytes/Bulk',' Bwd Avg Packets/Bulk','Bwd Avg Bulk Rate','Subflow Fwd Packets',' Subflow Fwd Bytes',' Subflow Bwd Packets',' Subflow Bwd Bytes','Init_Win_bytes_forward',' Init_Win_bytes_backward',' act_data_pkt_fwd',' min_seg_size_forward','Active Mean',' Active Std',' Active Max',' Active Min','Idle Mean',' Idle Std',' Idle Max',' Idle Min',' Label']\n",
        "\n",
        "\n",
        "data=pd.read_csv(csv_loc)\n",
        "\n",
        "data=data[(data[' Source Port']==22) | (data[' Destination Port']==22)]\n",
        "\n",
        "data[' Label'][data[' Label']=='SSH-Patator']=1\n",
        "data[' Label'][data[' Label']=='BENIGN']=0\n",
        "\n",
        "\n",
        "data=data[cols]\n",
        "data=data.astype(np.float64)\n",
        "data=data[np.isfinite(data).all(1)]\n",
        "data=data.dropna()\n",
        "print(data.shape)\n",
        "\n",
        "y=data[' Label']\n",
        "y=y.to_numpy()\n",
        "\n",
        "data.drop(data.columns[len(data.columns)-1], axis=1, inplace=True)\n",
        "x=data.to_numpy()\n",
        "x.shape\n",
        "\n"
      ]
    },
    {
      "cell_type": "code",
      "execution_count": 5,
      "metadata": {
        "colab": {
          "base_uri": "https://localhost:8080/"
        },
        "id": "O4P9Ei_CHb4W",
        "outputId": "07f04a31-99fb-4f04-e625-5063d290e8d4"
      },
      "outputs": [
        {
          "output_type": "stream",
          "name": "stdout",
          "text": [
            "(9069, 78)\n",
            "(9069,)\n"
          ]
        }
      ],
      "source": [
        "print(x.shape)\n",
        "print(y.shape)\n"
      ]
    },
    {
      "cell_type": "code",
      "execution_count": 6,
      "metadata": {
        "colab": {
          "base_uri": "https://localhost:8080/"
        },
        "id": "7uz1gUYmJg8x",
        "outputId": "4cc176af-7081-452b-ee85-b212eef0ff4b"
      },
      "outputs": [
        {
          "output_type": "stream",
          "name": "stderr",
          "text": [
            "<ipython-input-6-4db4f36f91c1>:5: RuntimeWarning: invalid value encountered in true_divide\n",
            "  x=np.divide(x-x_min,x_max-x_min)\n"
          ]
        },
        {
          "output_type": "execute_result",
          "data": {
            "text/plain": [
              "array([0.00000000e+00, 2.11251575e-02, 1.00000000e+00, 8.75000000e-01,\n",
              "       3.83088870e-01, 9.70957833e-01, 3.18435754e-01, 0.00000000e+00,\n",
              "       3.25411984e-01, 2.77239081e-01, 1.00000000e+00, 0.00000000e+00,\n",
              "       8.24148475e-01, 8.49516271e-01, 1.63786932e-03, 1.16371460e-05,\n",
              "       6.96417371e-03, 7.14549408e-03, 9.19573051e-03, 4.71664741e-06,\n",
              "       1.46309133e-01, 7.50723322e-02, 8.78563266e-02, 6.86694805e-02,\n",
              "       4.71666965e-06, 1.31352000e-02, 4.81291535e-03, 5.88641379e-03,\n",
              "       9.50929565e-03, 1.78682467e-06, 0.00000000e+00, 0.00000000e+00,\n",
              "       0.00000000e+00, 0.00000000e+00, 1.00000000e+00, 8.76288660e-01,\n",
              "       9.22588097e-06, 8.29663062e-06, 0.00000000e+00, 6.81564246e-01,\n",
              "       7.15396876e-01, 7.37175010e-01, 5.43426995e-01, 0.00000000e+00,\n",
              "       0.00000000e+00, 0.00000000e+00, 1.00000000e+00, 0.00000000e+00,\n",
              "       0.00000000e+00, 0.00000000e+00, 0.00000000e+00, 0.00000000e+00,\n",
              "       6.88985755e-01, 3.25411984e-01, 8.24148475e-01, 1.00000000e+00,\n",
              "       0.00000000e+00, 0.00000000e+00, 0.00000000e+00, 0.00000000e+00,\n",
              "       0.00000000e+00, 0.00000000e+00, 1.00000000e+00, 3.83088870e-01,\n",
              "       8.75000000e-01, 9.70957833e-01, 1.00000000e+00, 1.48544990e-02,\n",
              "       9.23076923e-01, 5.00000000e-01, 0.00000000e+00, 0.00000000e+00,\n",
              "       0.00000000e+00, 0.00000000e+00, 0.00000000e+00, 0.00000000e+00,\n",
              "       0.00000000e+00, 0.00000000e+00])"
            ]
          },
          "metadata": {},
          "execution_count": 6
        }
      ],
      "source": [
        "x=x*255\n",
        "x_min=x.min(0)\n",
        "x_max=x.max(0)\n",
        "\n",
        "x=np.divide(x-x_min,x_max-x_min)\n",
        "x[np.isnan(x)]=0\n",
        "x[0]"
      ]
    },
    {
      "cell_type": "code",
      "execution_count": 7,
      "metadata": {
        "id": "mUe3kIpLHizE"
      },
      "outputs": [],
      "source": [
        "from sklearn.model_selection import train_test_split\n",
        "\n",
        "x=np.reshape(x,(x.shape[0],13,6,1))\n",
        "x=x.astype(np.float64)\n",
        "x_train,x_test,y_train,y_test=train_test_split(x,y,test_size=0.2)"
      ]
    },
    {
      "cell_type": "code",
      "execution_count": 8,
      "metadata": {
        "colab": {
          "base_uri": "https://localhost:8080/"
        },
        "id": "fiJzORtIHlcf",
        "outputId": "af75fb32-b1e9-45e7-e18e-cfeeb5fe4d7e"
      },
      "outputs": [
        {
          "output_type": "stream",
          "name": "stdout",
          "text": [
            "(7255, 13, 6, 1)\n",
            "(1814, 13, 6, 1)\n",
            "(7255,)\n",
            "(1814,)\n"
          ]
        }
      ],
      "source": [
        "print(x_train.shape)\n",
        "print(x_test.shape)\n",
        "print(y_train.shape)\n",
        "print(y_test.shape)"
      ]
    },
    {
      "cell_type": "code",
      "execution_count": 9,
      "metadata": {
        "colab": {
          "base_uri": "https://localhost:8080/"
        },
        "id": "IRJOMDqEJV83",
        "outputId": "ca52b977-1c65-4b17-e6f3-aaaf530d3a6a"
      },
      "outputs": [
        {
          "output_type": "stream",
          "name": "stdout",
          "text": [
            "4690.0\n",
            "7255\n"
          ]
        }
      ],
      "source": [
        "print(np.sum(y_train))\n",
        "print(len(y_train))"
      ]
    },
    {
      "cell_type": "code",
      "execution_count": 10,
      "metadata": {
        "id": "EG_CsOcxJXhr"
      },
      "outputs": [],
      "source": [
        "from tensorflow.keras.models import Sequential\n",
        "from tensorflow.keras.layers import Conv2D\n",
        "from tensorflow.keras.layers import MaxPool2D\n",
        "from tensorflow.keras.layers import Flatten\n",
        "from tensorflow.keras.layers import Dropout\n",
        "from tensorflow.keras.layers import Dense\n"
      ]
    },
    {
      "cell_type": "code",
      "execution_count": 11,
      "metadata": {
        "id": "W5HwJiG6JiDn"
      },
      "outputs": [],
      "source": [
        "model=Sequential()\n",
        "model.add(Conv2D(32,(3,3),activation='relu',input_shape=(13,6,1),padding='same'))\n",
        "model.add(MaxPool2D(2,2,))\n",
        "model.add(Conv2D(64,(3,3),activation='relu',input_shape=(13,6,1),padding='same'))\n",
        "model.add(MaxPool2D(2,2))\n",
        "model.add(Flatten())\n",
        "model.add(Dense(64,activation='relu'))\n",
        "model.add(Dense(10,activation='softmax'))"
      ]
    },
    {
      "cell_type": "code",
      "execution_count": 12,
      "metadata": {
        "id": "N6h_PnppKPlf"
      },
      "outputs": [],
      "source": [
        "model.compile(loss='sparse_categorical_crossentropy',optimizer='adam',metrics=['accuracy'])"
      ]
    },
    {
      "cell_type": "code",
      "execution_count": 13,
      "metadata": {
        "colab": {
          "base_uri": "https://localhost:8080/"
        },
        "id": "fW9jMgA8Sh4I",
        "outputId": "6dbd3ed4-dee2-4c15-91a9-bd5a84ac6ccc"
      },
      "outputs": [
        {
          "output_type": "stream",
          "name": "stdout",
          "text": [
            "Epoch 1/50\n",
            "227/227 [==============================] - 2s 4ms/step - loss: 0.4682 - accuracy: 0.8324\n",
            "Epoch 2/50\n",
            "227/227 [==============================] - 1s 4ms/step - loss: 0.2000 - accuracy: 0.9347\n",
            "Epoch 3/50\n",
            "227/227 [==============================] - 1s 5ms/step - loss: 0.1883 - accuracy: 0.9362\n",
            "Epoch 4/50\n",
            "227/227 [==============================] - 1s 5ms/step - loss: 0.1837 - accuracy: 0.9367\n",
            "Epoch 5/50\n",
            "227/227 [==============================] - 1s 4ms/step - loss: 0.1769 - accuracy: 0.9365\n",
            "Epoch 6/50\n",
            "227/227 [==============================] - 1s 4ms/step - loss: 0.1754 - accuracy: 0.9376\n",
            "Epoch 7/50\n",
            "227/227 [==============================] - 1s 4ms/step - loss: 0.1743 - accuracy: 0.9374\n",
            "Epoch 8/50\n",
            "227/227 [==============================] - 1s 4ms/step - loss: 0.1676 - accuracy: 0.9381\n",
            "Epoch 9/50\n",
            "227/227 [==============================] - 1s 4ms/step - loss: 0.1671 - accuracy: 0.9360\n",
            "Epoch 10/50\n",
            "227/227 [==============================] - 1s 6ms/step - loss: 0.1535 - accuracy: 0.9389\n",
            "Epoch 11/50\n",
            "227/227 [==============================] - 1s 6ms/step - loss: 0.1411 - accuracy: 0.9392\n",
            "Epoch 12/50\n",
            "227/227 [==============================] - 1s 4ms/step - loss: 0.1217 - accuracy: 0.9451\n",
            "Epoch 13/50\n",
            "227/227 [==============================] - 1s 4ms/step - loss: 0.0994 - accuracy: 0.9588\n",
            "Epoch 14/50\n",
            "227/227 [==============================] - 1s 4ms/step - loss: 0.0863 - accuracy: 0.9655\n",
            "Epoch 15/50\n",
            "227/227 [==============================] - 1s 4ms/step - loss: 0.0670 - accuracy: 0.9821\n",
            "Epoch 16/50\n",
            "227/227 [==============================] - 1s 4ms/step - loss: 0.0537 - accuracy: 0.9870\n",
            "Epoch 17/50\n",
            "227/227 [==============================] - 1s 4ms/step - loss: 0.0479 - accuracy: 0.9884\n",
            "Epoch 18/50\n",
            "227/227 [==============================] - 1s 4ms/step - loss: 0.0440 - accuracy: 0.9887\n",
            "Epoch 19/50\n",
            "227/227 [==============================] - 1s 4ms/step - loss: 0.0452 - accuracy: 0.9876\n",
            "Epoch 20/50\n",
            "227/227 [==============================] - 1s 4ms/step - loss: 0.0399 - accuracy: 0.9895\n",
            "Epoch 21/50\n",
            "227/227 [==============================] - 1s 4ms/step - loss: 0.0452 - accuracy: 0.9866\n",
            "Epoch 22/50\n",
            "227/227 [==============================] - 1s 6ms/step - loss: 0.0425 - accuracy: 0.9880\n",
            "Epoch 23/50\n",
            "227/227 [==============================] - 1s 6ms/step - loss: 0.0378 - accuracy: 0.9901\n",
            "Epoch 24/50\n",
            "227/227 [==============================] - 1s 5ms/step - loss: 0.0401 - accuracy: 0.9876\n",
            "Epoch 25/50\n",
            "227/227 [==============================] - 1s 4ms/step - loss: 0.0356 - accuracy: 0.9888\n",
            "Epoch 26/50\n",
            "227/227 [==============================] - 1s 4ms/step - loss: 0.0348 - accuracy: 0.9912\n",
            "Epoch 27/50\n",
            "227/227 [==============================] - 1s 4ms/step - loss: 0.0334 - accuracy: 0.9913\n",
            "Epoch 28/50\n",
            "227/227 [==============================] - 1s 4ms/step - loss: 0.0343 - accuracy: 0.9913\n",
            "Epoch 29/50\n",
            "227/227 [==============================] - 1s 4ms/step - loss: 0.0326 - accuracy: 0.9908\n",
            "Epoch 30/50\n",
            "227/227 [==============================] - 1s 4ms/step - loss: 0.0328 - accuracy: 0.9910\n",
            "Epoch 31/50\n",
            "227/227 [==============================] - 1s 4ms/step - loss: 0.0322 - accuracy: 0.9908\n",
            "Epoch 32/50\n",
            "227/227 [==============================] - 1s 4ms/step - loss: 0.0322 - accuracy: 0.9919\n",
            "Epoch 33/50\n",
            "227/227 [==============================] - 1s 4ms/step - loss: 0.0350 - accuracy: 0.9883\n",
            "Epoch 34/50\n",
            "227/227 [==============================] - 1s 5ms/step - loss: 0.0351 - accuracy: 0.9895\n",
            "Epoch 35/50\n",
            "227/227 [==============================] - 1s 6ms/step - loss: 0.0340 - accuracy: 0.9904\n",
            "Epoch 36/50\n",
            "227/227 [==============================] - 1s 6ms/step - loss: 0.0332 - accuracy: 0.9909\n",
            "Epoch 37/50\n",
            "227/227 [==============================] - 1s 4ms/step - loss: 0.0325 - accuracy: 0.9913\n",
            "Epoch 38/50\n",
            "227/227 [==============================] - 1s 4ms/step - loss: 0.0288 - accuracy: 0.9926\n",
            "Epoch 39/50\n",
            "227/227 [==============================] - 1s 4ms/step - loss: 0.0321 - accuracy: 0.9909\n",
            "Epoch 40/50\n",
            "227/227 [==============================] - 1s 4ms/step - loss: 0.0363 - accuracy: 0.9892\n",
            "Epoch 41/50\n",
            "227/227 [==============================] - 1s 4ms/step - loss: 0.0426 - accuracy: 0.9910\n",
            "Epoch 42/50\n",
            "227/227 [==============================] - 1s 4ms/step - loss: 0.0289 - accuracy: 0.9926\n",
            "Epoch 43/50\n",
            "227/227 [==============================] - 1s 4ms/step - loss: 0.0274 - accuracy: 0.9923\n",
            "Epoch 44/50\n",
            "227/227 [==============================] - 1s 4ms/step - loss: 0.0283 - accuracy: 0.9916\n",
            "Epoch 45/50\n",
            "227/227 [==============================] - 1s 4ms/step - loss: 0.0312 - accuracy: 0.9913\n",
            "Epoch 46/50\n",
            "227/227 [==============================] - 1s 4ms/step - loss: 0.0272 - accuracy: 0.9926\n",
            "Epoch 47/50\n",
            "227/227 [==============================] - 1s 6ms/step - loss: 0.0287 - accuracy: 0.9920\n",
            "Epoch 48/50\n",
            "227/227 [==============================] - 1s 6ms/step - loss: 0.0290 - accuracy: 0.9920\n",
            "Epoch 49/50\n",
            "227/227 [==============================] - 1s 5ms/step - loss: 0.0277 - accuracy: 0.9920\n",
            "Epoch 50/50\n",
            "227/227 [==============================] - 1s 4ms/step - loss: 0.0264 - accuracy: 0.9926\n"
          ]
        },
        {
          "output_type": "execute_result",
          "data": {
            "text/plain": [
              "<keras.callbacks.History at 0x7f68c047b9a0>"
            ]
          },
          "metadata": {},
          "execution_count": 13
        }
      ],
      "source": [
        "model.fit(x_train, y_train, epochs=50)"
      ]
    },
    {
      "cell_type": "code",
      "execution_count": null,
      "metadata": {
        "colab": {
          "base_uri": "https://localhost:8080/",
          "height": 455
        },
        "id": "1QSO6V0YTEMk",
        "outputId": "3752f683-3aa0-48bb-c77a-2de768182eee"
      },
      "outputs": [
        {
          "output_type": "display_data",
          "data": {
            "text/plain": [
              "<Figure size 640x480 with 1 Axes>"
            ],
            "image/png": "[encoded data removed]"
          },
          "metadata": {}
        }
      ],
      "source": [
        "plt.plot(history.history['accuracy'], label='accuracy')\n",
        "plt.plot(history.history['val_accuracy'], label = 'val_accuracy')\n",
        "plt.xlabel('Epoch')\n",
        "plt.ylabel('Accuracy')\n",
        "plt.ylim([0.5, 1])\n",
        "plt.legend(loc='lower right')\n",
        "plt.show()"
      ]
    },
    {
      "cell_type": "code",
      "execution_count": 14,
      "metadata": {
        "colab": {
          "base_uri": "https://localhost:8080/"
        },
        "id": "NAr4Mb1vKzI1",
        "outputId": "765731de-8978-42a2-b7ec-387e9b277595"
      },
      "outputs": [
        {
          "output_type": "stream",
          "name": "stdout",
          "text": [
            "57/57 [==============================] - 0s 2ms/step - loss: 0.0668 - accuracy: 0.9868\n"
          ]
        },
        {
          "output_type": "execute_result",
          "data": {
            "text/plain": [
              "[0.06681963056325912, 0.9867695569992065]"
            ]
          },
          "metadata": {},
          "execution_count": 14
        }
      ],
      "source": [
        "model.evaluate(x_test,y_test)"
      ]
    },
    {
      "cell_type": "code",
      "source": [
        "model.summary()"
      ],
      "metadata": {
        "id": "ZI4kHVCKLwIP",
        "outputId": "0c8c030e-d4f6-423a-e8b7-d335ffe6692d",
        "colab": {
          "base_uri": "https://localhost:8080/"
        }
      },
      "execution_count": 15,
      "outputs": [
        {
          "output_type": "stream",
          "name": "stdout",
          "text": [
            "Model: \"sequential\"\n",
            "_________________________________________________________________\n",
            " Layer (type)                Output Shape              Param #   \n",
            "=================================================================\n",
            " conv2d (Conv2D)             (None, 13, 6, 32)         320       \n",
            "                                                                 \n",
            " max_pooling2d (MaxPooling2D  (None, 6, 3, 32)         0         \n",
            " )                                                               \n",
            "                                                                 \n",
            " conv2d_1 (Conv2D)           (None, 6, 3, 64)          18496     \n",
            "                                                                 \n",
            " max_pooling2d_1 (MaxPooling  (None, 3, 1, 64)         0         \n",
            " 2D)                                                             \n",
            "                                                                 \n",
            " flatten (Flatten)           (None, 192)               0         \n",
            "                                                                 \n",
            " dense (Dense)               (None, 64)                12352     \n",
            "                                                                 \n",
            " dense_1 (Dense)             (None, 10)                650       \n",
            "                                                                 \n",
            "=================================================================\n",
            "Total params: 31,818\n",
            "Trainable params: 31,818\n",
            "Non-trainable params: 0\n",
            "_________________________________________________________________\n"
          ]
        }
      ]
    }
  ],
  "metadata": {
    "colab": {
      "provenance": []
    },
    "kernelspec": {
      "display_name": "Python 3",
      "name": "python3"
    },
    "language_info": {
      "name": "python"
    }
  },
  "nbformat": 4,
  "nbformat_minor": 0
}